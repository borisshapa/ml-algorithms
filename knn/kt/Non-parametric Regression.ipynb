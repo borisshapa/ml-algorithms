{
 "cells": [
  {
   "cell_type": "code",
   "execution_count": null,
   "metadata": {},
   "outputs": [],
   "source": [
    "%use krangl, lets-plot"
   ]
  },
  {
   "cell_type": "markdown",
   "metadata": {},
   "source": [
    "## [artificial-characters](https://www.openml.org/d/1459) dataset reading"
   ]
  },
  {
   "cell_type": "code",
   "execution_count": 3,
   "metadata": {
    "scrolled": true
   },
   "outputs": [
    {
     "name": "stdout",
     "output_type": "stream",
     "text": [
      "A DataFrame: 10218 x 8\n",
      "     V1   V2   V3   V4   V5      V6      V7   Class\n",
      " 1    0    0    0    0   20      20    46.1       1\n",
      " 2    1   19    0   19    8       8    46.1       1\n",
      " 3    2    0   20   19    8   22.47    46.1       1\n",
      " 4    3    0   20    8   42   23.41    46.1       1\n",
      " 5    4   19    8    8   42   35.74    46.1       1\n",
      " 6    0    0    0    0   12      12   37.66       1\n",
      " 7    1    7    0    7    7       7   37.66       1\n",
      " 8    2    0   12    7    7     8.6   37.66       1\n",
      " 9    3    0   12    1   35   23.02   37.66       1\n",
      "10    4    7    7    5   30   23.09   37.66       1\n",
      "and 10208 more rows"
     ]
    }
   ],
   "source": [
    "val datasetPath = \"artificial-characters.csv\"\n",
    "\n",
    "val dataframe = DataFrame.readCSV(datasetPath)\n",
    "\n",
    "print(dataframe)"
   ]
  },
  {
   "cell_type": "code",
   "execution_count": 4,
   "metadata": {},
   "outputs": [],
   "source": [
    "class Dataset(val features: List<String>, var objects: List<List<Double>>) {\n",
    "    \n",
    "    constructor(dataframe: DataFrame, objCount: Int?, skipObjectsWithNull: Boolean = false)\n",
    "        : this(dataframe.names, emptyList()) {\n",
    "            \n",
    "        val values = mutableListOf<List<Double>>()\n",
    "        \n",
    "        for (row in dataframe.rows) {\n",
    "            if (skipObjectsWithNull && row.containsValue(null)) {\n",
    "                continue\n",
    "            }\n",
    "            val rowValues = row.values.toList()\n",
    "            val clearRow = List<Double>(rowValues.size) { ind ->\n",
    "                val elem = rowValues.get(ind)\n",
    "                if (elem != null) {\n",
    "                    elem.toString().toDouble()\n",
    "                } else {\n",
    "                    0.0\n",
    "                }\n",
    "            }\n",
    "            values.add(clearRow)\n",
    "        }\n",
    "        if (objCount != null) {\n",
    "            values.shuffle()\n",
    "            objects = values.slice(0..objCount)\n",
    "        } else {\n",
    "            objects = values\n",
    "        }\n",
    "    }\n",
    "}\n",
    "\n",
    "\n",
    "var dataset = Dataset(dataframe, 300, true)"
   ]
  },
  {
   "cell_type": "markdown",
   "metadata": {},
   "source": [
    "## Min-max normalization: $x_{scaled} = \\frac{x - min(x)}{max(x) - min(x)}$"
   ]
  },
  {
   "cell_type": "code",
   "execution_count": 5,
   "metadata": {},
   "outputs": [],
   "source": [
    "fun normalize(dataset: Dataset): Dataset {\n",
    "    val features = dataset.features\n",
    "    val objects = dataset.objects\n",
    "    val minmax = Array(features.size) { Pair(0.0, 0.0) }\n",
    "    \n",
    "    for (feature in features.indices) {\n",
    "        val min = objects.minByOrNull { it[feature] }\n",
    "        val max = objects.maxByOrNull { it[feature] }\n",
    "        if (min == null || max == null) {\n",
    "            return dataset\n",
    "        }\n",
    "        minmax[feature] = Pair(min[feature], max[feature])\n",
    "    }\n",
    " \n",
    "    val normalizedValues = List(objects.size) { row ->\n",
    "        List<Double>(features.size) { col ->\n",
    "            val featureMinmax = minmax[col]\n",
    "            val section = featureMinmax.second - featureMinmax.first\n",
    "            if (col == features.size - 1) {\n",
    "                objects[row][col]\n",
    "            } else if (section != 0.0) {\n",
    "                (objects[row][col] - featureMinmax.first) / section \n",
    "            } else {\n",
    "                1.0\n",
    "            }\n",
    "        }\n",
    "    }\n",
    " \n",
    "    return Dataset(features, normalizedValues)\n",
    "}\n",
    "\n",
    "dataset = normalize(dataset)"
   ]
  },
  {
   "cell_type": "markdown",
   "metadata": {},
   "source": [
    "## Distances:\n",
    "\n",
    "- manhattan: $d(p, q) = \\sum_{i=1}^n |p_i-q_i|$\n",
    "- euclidean: $d(p,q) = \\sqrt{\\sum_{k=1}^n (p_k-q_k)^2}$\n",
    "- chebyshev: $d(p,q) = \\max_{i = 1, \\dots, n} |x_i - y_i|.$"
   ]
  },
  {
   "cell_type": "code",
   "execution_count": 6,
   "metadata": {},
   "outputs": [],
   "source": [
    "fun minkowskiDistance(p: Double): (List<Double>, List<Double>) -> Double {\n",
    "    return { vector1: List<Double>, vector2: List<Double> ->\n",
    "        var distance = 0.0\n",
    "        for (i in vector1.indices) {\n",
    "            distance += abs(vector1[i] - vector2[i]).pow(p)\n",
    "        }\n",
    "        distance.pow(1 / p)\n",
    "    }\n",
    "}\n",
    " \n",
    "val DISTANCES = mapOf(\n",
    "    \"manhattan\" to minkowskiDistance(1.0),\n",
    "    \"euclidean\" to minkowskiDistance(2.0),\n",
    "    \"chebyshev\" to { v1: List<Double>, v2: List<Double> ->\n",
    "        val abs = List(v1.size) { ind -> abs(v1[ind] - v2[ind]) }\n",
    "        abs.maxOrNull()!!\n",
    "    }\n",
    ")"
   ]
  },
  {
   "cell_type": "markdown",
   "metadata": {},
   "source": [
    "## Kernels:\n",
    "\n",
    "\n",
    "- uniform: $K(u) = \\frac12$\n",
    "- triangular: $K(u) = (1-|u|)$\n",
    "- epanechnikov: $K(u) = \\frac{3}{4}(1-u^2)$\n",
    "- quartic: $K(u) = \\frac{15}{16}(1-u^2)^2$\n",
    "- triweight: $K(u) = \\frac{35}{32}(1-u^2)^3$\n",
    "- triweight: $K(u) = \\frac{70}{81}(1- {\\left| u \\right|}^3)^3$\n",
    "- gaussian: $K(u) = \\frac{1}{\\sqrt{2\\pi}}e^{-\\frac{1}{2}u^2}$\n",
    "- cosine: $K(u) = \\frac{\\pi}{4}\\cos\\left(\\frac{\\pi}{2}u\\right)$\n",
    "- logistic: $K(u) = \\frac{1}{e^{u}+2+e^{-u}}$\n",
    "- sigmoid: $K(u) = \\frac{2}{\\pi}\\frac{1}{e^{u}+e^{-u}}$"
   ]
  },
  {
   "cell_type": "code",
   "execution_count": 7,
   "metadata": {},
   "outputs": [],
   "source": [
    "fun finiteKernel(f: (Double) -> Double): (Double) -> Double {\n",
    "    return { u: Double -> if (abs(u) < 1.0) f(u) else 0.0 }\n",
    "}\n",
    " \n",
    "val KERNELS = mapOf(\n",
    "    \"uniform\" to finiteKernel { u -> 0.5 },\n",
    "    \"triangular\" to finiteKernel { u -> 1 - abs(u) },\n",
    "    \"epanechnikov\" to finiteKernel { u -> 3 * (1 - u * u) / 4 },\n",
    "    \"quartic\" to finiteKernel { u -> 15 * (1 - u * u).pow(2) / 16 },\n",
    "    \"triweight\" to finiteKernel { u -> 35 * (1 - u * u).pow(3) / 32 },\n",
    "    \"tricube\" to finiteKernel { u -> 70 * (1 - abs(u).pow(3)).pow(3) / 81 },\n",
    "    \"gaussian\" to { u: Double -> exp(-u * u / 2) / sqrt(2 * PI) },\n",
    "    \"cosine\" to finiteKernel { u -> PI * cos(PI * u / 2) / 4 },\n",
    "    \"logistic\" to { u: Double -> 1.0 / (exp(u) + 2 + exp(-u)) },\n",
    "    \"sigmoid\" to { u: Double -> 2.0 / (PI * (exp(u) + exp(-u))) }\n",
    ")"
   ]
  },
  {
   "cell_type": "code",
   "execution_count": 8,
   "metadata": {},
   "outputs": [],
   "source": [
    "fun getNeighbors(\n",
    "    train: List<List<Double>>,\n",
    "    testRow: List<Double>,\n",
    "    distance: (List<Double>, List<Double>) -> Double,\n",
    "    neighborsCount: Int\n",
    "): List<List<Double>> {\n",
    "    val sortedTrain = train.sortedWith(compareBy { distance(testRow, it.dropLast(1)) })\n",
    "    return sortedTrain.slice(0 until neighborsCount)\n",
    "}"
   ]
  },
  {
   "cell_type": "code",
   "execution_count": 9,
   "metadata": {},
   "outputs": [],
   "source": [
    "fun getWindowSizeByNeighborsCount(\n",
    "    dataset: List<List<Double>>, \n",
    "    obj: List<Double>, \n",
    "    distance: (List<Double>, List<Double>) -> Double,\n",
    "    neighborsCount: Int): Double {\n",
    "    val neighbors = getNeighbors(dataset, obj, distance, neighborsCount + 1)\n",
    "    return distance(obj, neighbors[neighborsCount].dropLast(1))\n",
    "}"
   ]
  },
  {
   "cell_type": "markdown",
   "metadata": {},
   "source": [
    "<font size=\"4\">$NW(x, D_{train})=\\frac{\\sum_{x_i \\in D_{train}} y_i K(\\frac{d(x_i, x)}{h})}{\\sum_{x_i \\in D_{train}} K(\\frac{d(x_i, x)}{h})}$</font>"
   ]
  },
  {
   "cell_type": "code",
   "execution_count": 10,
   "metadata": {},
   "outputs": [],
   "source": [
    "fun nadarayaWatson(\n",
    "    train: List<List<Double>>,\n",
    "    testRow: List<Double>,\n",
    "    distance: (List<Double>, List<Double>) -> Double,\n",
    "    normalizer: Double,\n",
    "    kernel: (Double) -> Double\n",
    "): Double {\n",
    "    fun kern(it: List<Double>) = kernel(distance(testRow, it.dropLast(1)) / normalizer)\n",
    "    val numerator = train.sumByDouble { it.last() * kern(it) }\n",
    "    val denominator = train.sumByDouble { kern(it) }\n",
    "    return if (denominator == 0.0) train.map { it.last() }.average() else numerator / denominator\n",
    "}"
   ]
  },
  {
   "cell_type": "code",
   "execution_count": 11,
   "metadata": {},
   "outputs": [],
   "source": [
    "fun confusionMatrix(\n",
    "    dataset: Dataset,\n",
    "    distance: (List<Double>, List<Double>) -> Double, \n",
    "    windowSize: Double, \n",
    "    kernel: (Double) -> Double,\n",
    "    useWindowSizeAsNeighborsCount: Boolean = false\n",
    "): List<List<Int>> {\n",
    "    val objects = dataset.objects\n",
    "    val maxClass = objects.maxByOrNull { it.last() }!!.last().toInt()\n",
    "    val confusionMatrix = List(maxClass + 1) { MutableList(maxClass + 1) { 0 } }\n",
    "\n",
    "    for (objIndex in objects.indices) {\n",
    "        val datasetWithoutObject = dataset.objects.toMutableList()\n",
    "        datasetWithoutObject.removeAt(objIndex)\n",
    "\n",
    "        val obj = objects[objIndex]\n",
    "        val objTarget = obj.last().toInt()\n",
    "        val objFeatures = obj.dropLast(1)\n",
    "\n",
    "        val normalizer = if (!useWindowSizeAsNeighborsCount) \n",
    "            windowSize \n",
    "        else\n",
    "            getWindowSizeByNeighborsCount(datasetWithoutObject, objFeatures, distance, windowSize.toInt())\n",
    "        \n",
    "        val predictionNadarayaWatson = nadarayaWatson(\n",
    "            datasetWithoutObject, \n",
    "            objFeatures, \n",
    "            distance,\n",
    "            normalizer,\n",
    "            kernel\n",
    "        )\n",
    "        val prediction = Math.round(predictionNadarayaWatson).toInt()\n",
    "\n",
    "        confusionMatrix[objTarget][prediction]++\n",
    "    }\n",
    "    return confusionMatrix\n",
    "}"
   ]
  },
  {
   "cell_type": "code",
   "execution_count": 12,
   "metadata": {},
   "outputs": [],
   "source": [
    "fun oneHotConfusionMatrix(\n",
    "    dataset: Dataset, \n",
    "    distance: (List<Double>, List<Double>) -> Double,\n",
    "    windowSize: Double,\n",
    "    kernel: (Double) -> Double,\n",
    "    useWindowSizeAsNeighborsCount: Boolean = false\n",
    "): List<List<Int>> {\n",
    "    val objects = dataset.objects\n",
    "    val featuresCount = dataset.features.size\n",
    "    \n",
    "    val maxClass = objects.maxByOrNull { it.last() }!!.last().toInt()\n",
    "    val confusionMatrix = List(maxClass + 1) { MutableList(maxClass + 1) { 0 } }\n",
    "\n",
    "    for (objIndex in objects.indices) {\n",
    "        val datasetWithoutObject = dataset.objects.toMutableList()\n",
    "        datasetWithoutObject.removeAt(objIndex)\n",
    "\n",
    "        val obj = objects[objIndex]\n",
    "        val objTarget = obj.last().toInt()\n",
    "        val objFeatures = obj.dropLast(1)\n",
    "        val probabilities = MutableList<Double>(maxClass + 1) { 0.0 }\n",
    "        \n",
    "        val normalizer = if (!useWindowSizeAsNeighborsCount) \n",
    "            windowSize \n",
    "        else\n",
    "            getWindowSizeByNeighborsCount(datasetWithoutObject, objFeatures, distance, windowSize.toInt())\n",
    "        \n",
    "        for (cl in 1..maxClass) {\n",
    "            var oneHotDataset = datasetWithoutObject.map { it.toMutableList() }\n",
    "            oneHotDataset.forEach { \n",
    "                it[featuresCount - 1] = if (it.last() == cl.toDouble()) 1.0 else 0.0 \n",
    "            }\n",
    "            probabilities[cl] = nadarayaWatson(\n",
    "                oneHotDataset, \n",
    "                objFeatures, \n",
    "                distance,\n",
    "                normalizer,\n",
    "                kernel\n",
    "            )\n",
    "        }\n",
    "        \n",
    "        val prediction = probabilities.indices.maxByOrNull { probabilities[it] }!!\n",
    "        confusionMatrix[objTarget][prediction]++\n",
    "    }\n",
    "    \n",
    "    return confusionMatrix\n",
    "}"
   ]
  },
  {
   "cell_type": "markdown",
   "metadata": {},
   "source": [
    "$Recall = \\dfrac{TP}{TP + FN}$\n",
    "\n",
    "$Precision = \\dfrac{TP}{TP + FP}$\n",
    "\n",
    "## F-measure:\n",
    "\n",
    "$F_\\beta = (1 + \\beta^2) \\frac{Precition · Recall}{\\beta^2 · Precition + Recall}$\n",
    "\n",
    "$F_1 = 2 \\frac{Precition · Recall}{Precition + Recall}$"
   ]
  },
  {
   "cell_type": "code",
   "execution_count": 13,
   "metadata": {},
   "outputs": [],
   "source": [
    "fun fBetaMeasure(beta: Double, precision: Double, recall: Double): Double {\n",
    "    val betaSqr = beta * beta;\n",
    "    val denominator = (betaSqr * precision + recall)\n",
    "    if (denominator == 0.0) {\n",
    "        return 0.0\n",
    "    }\n",
    "    return (1 + betaSqr) * (precision * recall) / denominator\n",
    "}\n",
    " \n",
    "fun f1Measure(precision: Double, recall: Double): Double {\n",
    "    return fBetaMeasure(1.0, precision, recall);\n",
    "}"
   ]
  },
  {
   "cell_type": "markdown",
   "metadata": {},
   "source": [
    "$Precision_W = \\dfrac{\\sum\\limits_{i = 1}^{N} \\dfrac{T_i P_i}{C_i}}{All}$\n",
    "\n",
    "$Recall_W = \\dfrac{\\sum\\limits_{i = 1}^{N} T_i}{All}$\n",
    "\n",
    "$macro F_β = (1 + β^2) \\dfrac{Precision_W \\cdot Recall_W}{β^2 \\cdot Precision_W + Recall_W}$\n",
    "\n",
    "$micro F_β = \\sum\\limits_{c \\in Classes} \\dfrac{P_c F_β(c)}{All}$"
   ]
  },
  {
   "cell_type": "code",
   "execution_count": 14,
   "metadata": {},
   "outputs": [],
   "source": [
    "fun fMeasure(confusionMatrix: List<List<Int>>, macroMeasure: Boolean = true): Double {\n",
    "    val colSum = { col: Int -> confusionMatrix.sumBy { it[col] } }\n",
    "    val rowSum = { row: Int -> confusionMatrix[row].sum() }\n",
    "    val sum = confusionMatrix.sumBy { it.sum() } \n",
    " \n",
    " \n",
    "    var micro = 0.0\n",
    "    var recallW = 0.0\n",
    "    var precW = 0.0\n",
    "\n",
    "    for (i in confusionMatrix.indices) {\n",
    "        val tp = confusionMatrix[i][i].toDouble()\n",
    "        val cs = colSum(i)\n",
    "        val rs = rowSum(i)\n",
    "        val precision = if (cs == 0) 0.0 else tp / cs\n",
    "        val recall = if (rs == 0) 0.0 else tp / rs\n",
    "        val coef = rs.toDouble()\n",
    "\n",
    "        recallW += recall * coef\n",
    "        precW += precision * coef\n",
    "        val f1 = f1Measure(precision, recall)\n",
    "        micro += f1 * coef\n",
    "    }\n",
    "\n",
    "    if (sum == 0) {\n",
    "        micro = 0.0\n",
    "        recallW = 0.0\n",
    "        precW = 0.0\n",
    "    } else {\n",
    "        micro /= sum\n",
    "        recallW /= sum\n",
    "        precW /= sum\n",
    "    }\n",
    "    val macro = f1Measure(precW, recallW)\n",
    "    \n",
    "    return if (macroMeasure) macro else micro\n",
    "}"
   ]
  },
  {
   "cell_type": "code",
   "execution_count": 15,
   "metadata": {},
   "outputs": [],
   "source": [
    "fun findOptimal(mode: String): Map<String, Any> {\n",
    "    var optimalDistance = \"euclidean\"\n",
    "    var optimalWindowSize = 0.05\n",
    "    var optimalKernel = \"uniform\"\n",
    "    var maxFMeasure = 0.0\n",
    "\n",
    "    for (distance in DISTANCES) {\n",
    "        for (window in 1..20) {\n",
    "            val windowSize = window.toDouble() / 10000\n",
    "            for (kernel in KERNELS) {\n",
    "                val confusionMatrix = when (mode){\n",
    "                    \"naive\" -> confusionMatrix(dataset, distance.value, windowSize, kernel.value)\n",
    "                    \"one hot\" -> oneHotConfusionMatrix(dataset, distance.value, windowSize, kernel.value)\n",
    "                    else -> {\n",
    "                        println(\"Unsupported mode\") \n",
    "                        return mapOf()\n",
    "                    }\n",
    "                }\n",
    "                val fMeasure = fMeasure(confusionMatrix)\n",
    "                if (fMeasure > maxFMeasure) {\n",
    "                    maxFMeasure = fMeasure\n",
    "                    optimalDistance = distance.key\n",
    "                    optimalWindowSize = windowSize\n",
    "                    optimalKernel = kernel.key\n",
    "                }\n",
    "            }\n",
    "        }\n",
    "    }\n",
    "    \n",
    "    return mapOf (\n",
    "        \"f measure\" to maxFMeasure,\n",
    "        \"distance\" to optimalDistance,\n",
    "        \"window size\" to optimalWindowSize,\n",
    "        \"kernel\" to optimalKernel\n",
    "    )\n",
    "}"
   ]
  },
  {
   "cell_type": "code",
   "execution_count": 16,
   "metadata": {},
   "outputs": [
    {
     "name": "stdout",
     "output_type": "stream",
     "text": [
      "{f measure=0.44368831872353326, distance=manhattan, window size=0.0014, kernel=logistic}\n"
     ]
    }
   ],
   "source": [
    "val naive = findOptimal(\"naive\")\n",
    "println(naive)"
   ]
  },
  {
   "cell_type": "code",
   "execution_count": 17,
   "metadata": {},
   "outputs": [
    {
     "name": "stdout",
     "output_type": "stream",
     "text": [
      "{f measure=0.4529590624205767, distance=chebyshev, window size=5.0E-4, kernel=logistic}\n"
     ]
    }
   ],
   "source": [
    "val oneHot = findOptimal(\"one hot\")\n",
    "println(oneHot)"
   ]
  },
  {
   "cell_type": "code",
   "execution_count": 18,
   "metadata": {},
   "outputs": [],
   "source": [
    "val getConfusionMatrix = if (naive[\"f measure\"].toString().toDouble() < oneHot[\"f measure\"].toString().toDouble()) \n",
    "    ::oneHotConfusionMatrix \n",
    "else \n",
    "    ::confusionMatrix"
   ]
  },
  {
   "cell_type": "code",
   "execution_count": 19,
   "metadata": {},
   "outputs": [
    {
     "data": {
      "text/html": [
       "   <div id=\"aCa83G\"></div>\n",
       "   <script type=\"text/javascript\" data-lets-plot-script=\"plot\">\n",
       "       (function() {\n",
       "           var plotSpec={\n",
       "'mapping':{\n",
       "},\n",
       "'data':{\n",
       "'windowSize':[1.0E-4,2.0E-4,3.0E-4,4.0E-4,5.0E-4,6.0E-4,7.0E-4,8.0E-4,9.0E-4,0.001,0.0011,0.0012,0.0013,0.0014,0.0015,0.0016,0.0017,0.0018,0.0019,0.002],\n",
       "'fMeasure':[0.2602787089178809,0.3516746419085097,0.3940584927595625,0.3819965454376425,0.3990456952480726,0.41757995694504085,0.4233069179295417,0.42592222780661415,0.44110983686827165,0.44966521346548244,0.4494392295716103,0.4490645673692099,0.4494854358285046,0.44998276594645104,0.44998276594645104,0.44998276594645104,0.44998276594645104,0.44998276594645104,0.44998276594645104,0.44998276594645104]\n",
       "},\n",
       "'kind':\"plot\",\n",
       "'scales':[],\n",
       "'layers':[{\n",
       "'stat':\"identity\",\n",
       "'mapping':{\n",
       "'x':\"windowSize\",\n",
       "'y':\"fMeasure\"\n",
       "},\n",
       "'data':{\n",
       "},\n",
       "'position':\"identity\",\n",
       "'geom':\"line\"\n",
       "}]\n",
       "};\n",
       "           var plotContainer = document.getElementById(\"aCa83G\");\n",
       "           window.letsPlotCall(function() {{\n",
       "               LetsPlot.buildPlotFromProcessedSpecs(plotSpec, -1, -1, plotContainer);\n",
       "           }});\n",
       "       })();    \n",
       "   </script>"
      ]
     },
     "execution_count": 19,
     "metadata": {},
     "output_type": "execute_result"
    }
   ],
   "source": [
    "val fMeasures = MutableList<Double>(0) { 0.0 }\n",
    "val windowSizes = List<Double>(20) { (it + 1.0) / 10000 }\n",
    "for (windowSize in windowSizes) {\n",
    "    val confusionMatrix = getConfusionMatrix(dataset, DISTANCES[\"manhattan\"]!!, windowSize, KERNELS[\"logistic\"]!!, false)\n",
    "    fMeasures.add(fMeasure(confusionMatrix))\n",
    "}\n",
    "val plotDataWindowSize = mapOf(\n",
    "    \"windowSize\" to windowSizes,\n",
    "    \"fMeasure\" to fMeasures\n",
    ")\n",
    "\n",
    "lets_plot(plotDataWindowSize) +\n",
    "    geom_line {\n",
    "        x = \"windowSize\"\n",
    "        y = \"fMeasure\"\n",
    "    }"
   ]
  },
  {
   "cell_type": "code",
   "execution_count": 22,
   "metadata": {},
   "outputs": [
    {
     "data": {
      "text/html": [
       "   <div id=\"BhJJY3\"></div>\n",
       "   <script type=\"text/javascript\" data-lets-plot-script=\"plot\">\n",
       "       (function() {\n",
       "           var plotSpec={\n",
       "'mapping':{\n",
       "},\n",
       "'data':{\n",
       "'fMeasure':[0.36091010030962717,0.30140608844087974,0.2843041658719534,0.2761629358831438,0.22861113823639487,0.25172286859954873,0.24475335457405045,0.23030689441912994,0.22324406307980904,0.20139603646516294],\n",
       "'neighborsCount':[1.0,2.0,3.0,4.0,5.0,6.0,7.0,8.0,9.0,10.0]\n",
       "},\n",
       "'kind':\"plot\",\n",
       "'scales':[],\n",
       "'layers':[{\n",
       "'stat':\"identity\",\n",
       "'mapping':{\n",
       "'x':\"neighborsCount\",\n",
       "'y':\"fMeasure\"\n",
       "},\n",
       "'data':{\n",
       "},\n",
       "'position':\"identity\",\n",
       "'geom':\"line\"\n",
       "}]\n",
       "};\n",
       "           var plotContainer = document.getElementById(\"BhJJY3\");\n",
       "           window.letsPlotCall(function() {{\n",
       "               LetsPlot.buildPlotFromProcessedSpecs(plotSpec, -1, -1, plotContainer);\n",
       "           }});\n",
       "       })();    \n",
       "   </script>"
      ]
     },
     "execution_count": 22,
     "metadata": {},
     "output_type": "execute_result"
    }
   ],
   "source": [
    "val fMeasures = MutableList<Double>(0) { 0.0 }\n",
    "val neighborsCount = List<Double>(10) { (it + 1).toDouble() }\n",
    "for (windowSize in neighborsCount) {\n",
    "    val confusionMatrix = getConfusionMatrix(dataset, DISTANCES[\"manhattan\"]!!, windowSize, KERNELS[\"logistic\"]!!, true)\n",
    "    fMeasures.add(fMeasure(confusionMatrix))\n",
    "}\n",
    "val plotDataNeighborCount = mapOf(\n",
    "    \"neighborsCount\" to neighborsCount,\n",
    "    \"fMeasure\" to fMeasures\n",
    ")\n",
    "\n",
    "lets_plot(plotDataNeighborCount) +\n",
    "    geom_line {\n",
    "        x = \"neighborsCount\"\n",
    "        y = \"fMeasure\"\n",
    "    }"
   ]
  },
  {
   "cell_type": "code",
   "execution_count": null,
   "metadata": {},
   "outputs": [],
   "source": []
  }
 ],
 "metadata": {
  "kernelspec": {
   "display_name": "Kotlin",
   "language": "kotlin",
   "name": "kotlin"
  },
  "language_info": {
   "codemirror_mode": "text/x-kotlin",
   "file_extension": ".kt",
   "mimetype": "text/x-kotlin",
   "name": "kotlin",
   "pygments_lexer": "kotlin",
   "version": "1.4.20-dev-2342"
  }
 },
 "nbformat": 4,
 "nbformat_minor": 4
}
