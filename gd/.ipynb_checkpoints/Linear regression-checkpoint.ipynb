{
 "cells": [
  {
   "cell_type": "code",
   "execution_count": 1,
   "metadata": {
    "scrolled": true
   },
   "outputs": [
    {
     "data": {
      "text/html": [
       "   <div id=\"udECgH\"></div>\n",
       "   <script type=\"text/javascript\" data-lets-plot-script=\"library\">\n",
       "       if(!window.letsPlotCallQueue) {\n",
       "           window.letsPlotCallQueue = [];\n",
       "       }; \n",
       "       window.letsPlotCall = function(f) {\n",
       "           window.letsPlotCallQueue.push(f);\n",
       "       };\n",
       "       (function() {\n",
       "           var script = document.createElement(\"script\");\n",
       "           script.type = \"text/javascript\";\n",
       "           script.src = \"https://dl.bintray.com/jetbrains/lets-plot/lets-plot-1.5.2.min.js\";\n",
       "           script.onload = function() {\n",
       "               window.letsPlotCall = function(f) {f();};\n",
       "               window.letsPlotCallQueue.forEach(function(f) {f();});\n",
       "               window.letsPlotCallQueue = [];\n",
       "               \n",
       "               \n",
       "           };\n",
       "           script.onerror = function(event) {\n",
       "               window.letsPlotCall = function(f) {};\n",
       "               window.letsPlotCallQueue = [];\n",
       "               var div = document.createElement(\"div\");\n",
       "               div.style.color = 'darkred';\n",
       "               div.textContent = 'Error loading Lets-Plot JS';\n",
       "               document.getElementById(\"udECgH\").appendChild(div);\n",
       "           };\n",
       "           var e = document.getElementById(\"udECgH\");\n",
       "           e.appendChild(script);\n",
       "       })();\n",
       "   </script>"
      ]
     },
     "metadata": {},
     "output_type": "display_data"
    }
   ],
   "source": [
    "%use smile, lets-plot\n",
    "import java.io.File\n",
    "import kotlin.random.Random"
   ]
  },
  {
   "cell_type": "code",
   "execution_count": 2,
   "metadata": {},
   "outputs": [],
   "source": [
    "operator fun List<Double>.plus(v: List<Double>): List<Double> =\n",
    "    this.zip(v).map { it.first + it.second }\n",
    "\n",
    "operator fun List<Double>.minus(v: List<Double>): List<Double> =\n",
    "    this.zip(v).map { it.first - it.second }\n",
    "\n",
    "operator fun List<Double>.times(x: Double): List<Double> =\n",
    "    this.map { it * x }\n",
    "\n",
    "operator fun Double.times(v: List<Double>): List<Double> =\n",
    "    v * this\n",
    "\n",
    "fun List<Double>.dot(v: List<Double>): Double =\n",
    "    this.zip(v).map { it.first * it.second }.reduce { a, b -> a + b }"
   ]
  },
  {
   "cell_type": "code",
   "execution_count": 3,
   "metadata": {},
   "outputs": [],
   "source": [
    "fun normalize(dataset: List<List<Double>>): List<List<Double>> {\n",
    "    val featuresCount = dataset[0].size\n",
    "    val minmax = MutableList(featuresCount) { Pair(0.0, 0.0) }\n",
    "    for (feature in 0 until featuresCount) {\n",
    "        val min = dataset.minByOrNull { it[feature] }\n",
    "        val max = dataset.maxByOrNull { it[feature] }\n",
    "        if (min == null || max == null) {\n",
    "            return emptyList()\n",
    "        }\n",
    "        minmax[feature] = Pair(min[feature], max[feature])\n",
    "    }\n",
    "\n",
    "    val normalizedValues = List(dataset.size) { row ->\n",
    "        List(featuresCount) { col ->\n",
    "            val featureMinmax = minmax[col]\n",
    "            val section = featureMinmax.second - featureMinmax.first\n",
    "            if (col == featuresCount - 1) {\n",
    "                dataset[row][col]\n",
    "            } else if (section != 0.0) {\n",
    "                (dataset[row][col] - featureMinmax.first) / section\n",
    "            } else {\n",
    "                1.0\n",
    "            }\n",
    "        }\n",
    "    }\n",
    "\n",
    "    return normalizedValues\n",
    "}"
   ]
  },
  {
   "cell_type": "code",
   "execution_count": 4,
   "metadata": {},
   "outputs": [],
   "source": [
    "fun addBias(values: List<Double>): List<Double> {\n",
    "    val values = values.toMutableList()\n",
    "    values.add(0, 1.0)\n",
    "    return values\n",
    "}"
   ]
  },
  {
   "cell_type": "code",
   "execution_count": 5,
   "metadata": {},
   "outputs": [],
   "source": [
    "fun getXY(obj: List<Double>): Pair<List<Double>, Double> {\n",
    "    return Pair(obj.dropLast(1), obj.last())\n",
    "}"
   ]
  },
  {
   "cell_type": "code",
   "execution_count": 6,
   "metadata": {},
   "outputs": [],
   "source": [
    "fun nrmse(objects: List<List<Double>>, w: List<Double>): Double {\n",
    "    var sum = 0.0\n",
    "    var maxY = Double.MIN_VALUE\n",
    "    var minY = Double.MAX_VALUE\n",
    "    \n",
    "    for (obj in objects) {\n",
    "        val (x, y) = getXY(obj)\n",
    "        maxY = max(maxY, y)\n",
    "        minY = min(minY, y)\n",
    "        val a = w.dot(x)\n",
    "        sum += (a - y).pow(2.0)\n",
    "    }\n",
    "    var normalizer = maxY - minY\n",
    "    if (normalizer == 0.0) {\n",
    "        normalizer = if (maxY == 0.0) 1.0 else maxY\n",
    "    }\n",
    "    return sqrt(sum) / normalizer\n",
    "}"
   ]
  },
  {
   "cell_type": "code",
   "execution_count": 30,
   "metadata": {},
   "outputs": [],
   "source": [
    "fun sgd(train: List<List<Double>>, stepsCount: Int, lambda: Double, p: Double, tau: Double): List<Double> {\n",
    "    val featuresCount = train[0].size\n",
    "    \n",
    "    var w = List(featuresCount) { Random.nextDouble(10000.0) }\n",
    "\n",
    "    for (i in 0 until stepsCount) {\n",
    "        val step = lambda * (1.0 / (1.0 + i)).pow(p)\n",
    "        val objInd = Random.nextInt(train.size)\n",
    "        val (x, y) = getXY(train[objInd])\n",
    "        val a = w.dot(x)\n",
    "        val grad = (a - y) * x\n",
    "        w = w * (1 - step * tau) - step * grad\n",
    "    }\n",
    "    \n",
    "    return w\n",
    "}"
   ]
  },
  {
   "cell_type": "code",
   "execution_count": null,
   "metadata": {
    "scrolled": true
   },
   "outputs": [],
   "source": [
    "fun readFileAsLinesUsingUseLines(fileName: String): List<String> = File(fileName).useLines { it.toList() }\n",
    "\n",
    "val inputFile = readFileAsLinesUsingUseLines(\"LR/2.txt\")\n",
    "val featuresCount = inputFile[0].toInt() + 1\n",
    "val objectsCount = inputFile[1].toInt()\n",
    "var objects = List(objectsCount) { i -> addBias(inputFile[i + 2].split(' ').map { it.toDouble() }) }\n",
    "objects = normalize(objects)\n",
    "\n",
    "val testData = inputFile.drop(2 + objectsCount)\n",
    "val testObjectsCount = testData[0].toInt()\n",
    "var testObjects = List(testObjectsCount) { i -> addBias(testData[i + 1].split(' ').map { it.toDouble() }) }\n",
    "testObjects = normalize(testObjects)\n",
    "\n",
    "val STEPS_COUNT = 100\n",
    "val STEP_SIZE = 0.1\n",
    "val TAU = 1.5\n",
    "\n",
    "val stepsCount = List<Int>(1000) { (it + 2) * 100 }\n",
    "val nrmse = List<Double>(1000) {i -> \n",
    "    val ww = sgd(objects, stepsCount[i], 0.0001, 0.45, TAU)\n",
    "    nrmse(testObjects, ww)\n",
    "}\n",
    "\n",
    "val plotDataWindowSize = mapOf(\n",
    "    \"stepsCount\" to stepsCount,\n",
    "    \"nrmse\" to nrmse\n",
    ")\n",
    "\n",
    "lets_plot(plotDataWindowSize) +\n",
    "    geom_line {\n",
    "        x = \"stepsCount\"\n",
    "        y = \"nrmse\"\n",
    "    }"
   ]
  },
  {
   "cell_type": "code",
   "execution_count": 33,
   "metadata": {},
   "outputs": [
    {
     "data": {
      "text/html": [
       "   <div id=\"mcHCcz\"></div>\n",
       "   <script type=\"text/javascript\" data-lets-plot-script=\"plot\">\n",
       "       (function() {\n",
       "           var plotSpec={\n",
       "'mapping':{\n",
       "},\n",
       "'data':{\n",
       "'nrmse':[4.727188076107548,4.831530464373291,5.768161534372045,4.709630952991787,4.748592072254566,4.797600390381199,5.032862227903099,4.72823390381766,4.710254114089516,4.889682779438515,4.688383717581371,5.042773487378949,4.847962632853232,4.925651136625787,4.616036362317556,4.6797675956374905,4.637717794673135,4.7111152896131845,4.85223457984104,4.801127677979481,4.62985984113318,4.742351993831499,4.928501402364629,4.752131072979738,4.843998409959596,4.851227230925319,4.759122610721436,4.603937915163207,4.739230315751947,4.675054161405456,4.680276088230732,4.852361970164963,4.627974218756952,4.759603420114058,4.792452207289951,4.714856282007012,4.735878084780168,4.627663727412071,4.6285665671921885,4.713951845730714,4.662634831291034,4.635159313450634,4.693786047951405,4.964284988671719,4.679200419617453,4.625143629394392,4.653447556975383,4.728739839286214,4.71724955945784,4.752281951281704,4.610441732519398,4.748039615449044,4.9072575686486735,4.663477256028207,4.92077809852507,4.6173566225267555,4.6378670098418135,4.688616848532773,4.642695469878711,4.750891366056966,4.642608526741566,4.687732142055598,4.792735823485157,4.633940523532323,4.662157692356267,4.664910577180587,4.703684807126105,4.726370554383084,4.717808252074661,4.772746886003143,4.645344347581668,4.6897800222016635,4.630655724921545,4.751520177299141,4.65117414258871,4.615309234231184,4.73934277409911,4.698375054431238,4.631409621175869,4.6403338652409145,4.7266986871341805,4.7671309477356365,4.6443365377739365,4.630400918921116,4.604879851340028,4.649329405219655,4.685241314905096,4.615948092293569,4.665139840558917,4.710018725141971,4.698369726796988,4.655635844648332,4.634756158512901,4.684694423351779,4.630244184763438,4.633359022976066,4.7644763910958865,4.628674244108429,4.8446979934930905,4.638652300816076],\n",
       "'stepsCount':[200.0,300.0,400.0,500.0,600.0,700.0,800.0,900.0,1000.0,1100.0,1200.0,1300.0,1400.0,1500.0,1600.0,1700.0,1800.0,1900.0,2000.0,2100.0,2200.0,2300.0,2400.0,2500.0,2600.0,2700.0,2800.0,2900.0,3000.0,3100.0,3200.0,3300.0,3400.0,3500.0,3600.0,3700.0,3800.0,3900.0,4000.0,4100.0,4200.0,4300.0,4400.0,4500.0,4600.0,4700.0,4800.0,4900.0,5000.0,5100.0,5200.0,5300.0,5400.0,5500.0,5600.0,5700.0,5800.0,5900.0,6000.0,6100.0,6200.0,6300.0,6400.0,6500.0,6600.0,6700.0,6800.0,6900.0,7000.0,7100.0,7200.0,7300.0,7400.0,7500.0,7600.0,7700.0,7800.0,7900.0,8000.0,8100.0,8200.0,8300.0,8400.0,8500.0,8600.0,8700.0,8800.0,8900.0,9000.0,9100.0,9200.0,9300.0,9400.0,9500.0,9600.0,9700.0,9800.0,9900.0,10000.0,10100.0]\n",
       "},\n",
       "'kind':\"plot\",\n",
       "'scales':[],\n",
       "'layers':[{\n",
       "'stat':\"identity\",\n",
       "'mapping':{\n",
       "'x':\"stepsCount\",\n",
       "'y':\"nrmse\"\n",
       "},\n",
       "'data':{\n",
       "},\n",
       "'position':\"identity\",\n",
       "'geom':\"line\"\n",
       "}]\n",
       "};\n",
       "           var plotContainer = document.getElementById(\"mcHCcz\");\n",
       "           window.letsPlotCall(function() {{\n",
       "               LetsPlot.buildPlotFromProcessedSpecs(plotSpec, -1, -1, plotContainer);\n",
       "           }});\n",
       "       })();    \n",
       "   </script>"
      ]
     },
     "execution_count": 33,
     "metadata": {},
     "output_type": "execute_result"
    }
   ],
   "source": [
    "val stepsCount = List<Int>(100) { (it + 2) * 100 }\n",
    "val nrmse = List<Double>(100) {i -> \n",
    "    val ww = sgd(objects, stepsCount[i], 0.1, 0.45, TAU)\n",
    "    nrmse(objects, ww)\n",
    "}\n",
    "\n",
    "val plotDataWindowSize = mapOf(\n",
    "    \"stepsCount\" to stepsCount,\n",
    "    \"nrmse\" to nrmse\n",
    ")\n",
    "\n",
    "lets_plot(plotDataWindowSize) +\n",
    "    geom_line {\n",
    "        x = \"stepsCount\"\n",
    "        y = \"nrmse\"\n",
    "    }"
   ]
  },
  {
   "cell_type": "code",
   "execution_count": 54,
   "metadata": {},
   "outputs": [
    {
     "name": "stdout",
     "output_type": "stream",
     "text": [
      "2.1117965102184306\n",
      "0.10729673754642742\n"
     ]
    }
   ],
   "source": [
    "import smile.math.matrix.JMatrix\n",
    "\n",
    "val F = objects.map { it.dropLast(1).toDoubleArray() }\n",
    "val FMatrix = JMatrix(F.toTypedArray())\n",
    "val svd = FMatrix.svd()\n",
    "val v = svd.getV()\n",
    "val s = svd.getS()\n",
    "val u = svd.getU()\n",
    "// println(\"$v\\n$s\\n$u\")\n",
    "var sum = List(featuresCount) { MutableList(objectsCount) {0.0} }\n",
    "for (feature in 0 until featuresCount) {\n",
    "    for (i in 0 until featuresCount) {\n",
    "        for (j in 0 until objectsCount) {\n",
    "            val lambda = s.get(feature, feature)\n",
    "            sum[i][j] += (lambda / (lambda * lambda + 2.0)) * v.get(i, feature) * u.get(j, feature)\n",
    "        }\n",
    "    }\n",
    "}\n",
    "\n",
    "val w = List(featuresCount) {i -> \n",
    "    var ss = 0.0\n",
    "    for (j in 0 until objectsCount) {\n",
    "        ss += sum[i][j] * objects[j].last()\n",
    "    } \n",
    "    ss\n",
    "}\n",
    "\n",
    "val nrmse = nrmse(testObjects, w)\n",
    "println(nrmse)\n",
    "\n",
    "val nrmse2 = nrmse(objects, w)\n",
    "println(nrmse2)"
   ]
  },
  {
   "cell_type": "code",
   "execution_count": 55,
   "metadata": {},
   "outputs": [],
   "source": [
    "fun naiveAnnealing(stepsCount: Int, samplesCount: Int, scatter: Double): List<Double> {\n",
    "    var w = List(featuresCount) { Random.nextDouble(scatter) }\n",
    "    for (i in 0 until stepsCount) {\n",
    "        val ws = List(samplesCount) { List(featuresCount) {i -> w[i] + Random.nextDouble(scatter) } }\n",
    "        var minNrmse = nrmse(testObjects, w)\n",
    "        for (newW in ws) {\n",
    "            val nrmse = nrmse(testObjects, newW)\n",
    "            if (nrmse < minNrmse) {\n",
    "                minNrmse = nrmse\n",
    "                w = newW\n",
    "            }\n",
    "        }\n",
    "    }\n",
    "    return w\n",
    "}"
   ]
  },
  {
   "cell_type": "code",
   "execution_count": 64,
   "metadata": {},
   "outputs": [
    {
     "data": {
      "text/html": [
       "   <div id=\"kGJvGw\"></div>\n",
       "   <script type=\"text/javascript\" data-lets-plot-script=\"plot\">\n",
       "       (function() {\n",
       "           var plotSpec={\n",
       "'mapping':{\n",
       "},\n",
       "'data':{\n",
       "'nrmse':[3.07927711015956,3.0805237139749893,3.0784672736324095,3.080284936114359,3.080712729431619,3.080646999397462,3.078373519798244,3.0814479240859156,3.076221912916653,3.07917513641645],\n",
       "'stepsCount':[10.0,20.0,30.0,40.0,50.0,60.0,70.0,80.0,90.0,100.0]\n",
       "},\n",
       "'kind':\"plot\",\n",
       "'scales':[],\n",
       "'layers':[{\n",
       "'stat':\"identity\",\n",
       "'mapping':{\n",
       "'x':\"stepsCount\",\n",
       "'y':\"nrmse\"\n",
       "},\n",
       "'data':{\n",
       "},\n",
       "'position':\"identity\",\n",
       "'geom':\"line\"\n",
       "}]\n",
       "};\n",
       "           var plotContainer = document.getElementById(\"kGJvGw\");\n",
       "           window.letsPlotCall(function() {{\n",
       "               LetsPlot.buildPlotFromProcessedSpecs(plotSpec, -1, -1, plotContainer);\n",
       "           }});\n",
       "       })();    \n",
       "   </script>"
      ]
     },
     "execution_count": 64,
     "metadata": {},
     "output_type": "execute_result"
    }
   ],
   "source": [
    "// val annealingW = naiveAnnealing(1000, 10, 10000.0)\n",
    "// println(nrmse(testObjects, annealingW))\n",
    "\n",
    "val stepsCount = List<Int>(10) { (it + 1) * 10 }\n",
    "val nrmse = List<Double>(10) {i -> \n",
    "    val ww = naiveAnnealing(stepsCount[i], 10, 10000.0)\n",
    "    nrmse(testObjects, ww)\n",
    "}\n",
    "\n",
    "val plotDataWindowSize = mapOf(\n",
    "    \"stepsCount\" to stepsCount,\n",
    "    \"nrmse\" to nrmse\n",
    ")\n",
    "\n",
    "lets_plot(plotDataWindowSize) +\n",
    "    geom_line {\n",
    "        x = \"stepsCount\"\n",
    "        y = \"nrmse\"\n",
    "    }"
   ]
  },
  {
   "cell_type": "code",
   "execution_count": 57,
   "metadata": {},
   "outputs": [
    {
     "data": {
      "text/html": [
       "   <div id=\"sN8SLh\"></div>\n",
       "   <script type=\"text/javascript\" data-lets-plot-script=\"plot\">\n",
       "       (function() {\n",
       "           var plotSpec={\n",
       "'mapping':{\n",
       "},\n",
       "'data':{\n",
       "'nrmse':[5.724206550011004,5.69615832501226,5.728618556385019,5.725309519165651,5.702757367164468,5.6554644735491015,5.659105974164654,5.6879949597751756,5.6778257542020745,5.690103399233591],\n",
       "'stepsCount':[50.0,60.0,70.0,80.0,90.0,100.0,110.0,120.0,130.0,140.0]\n",
       "},\n",
       "'kind':\"plot\",\n",
       "'scales':[],\n",
       "'layers':[{\n",
       "'stat':\"identity\",\n",
       "'mapping':{\n",
       "'x':\"stepsCount\",\n",
       "'y':\"nrmse\"\n",
       "},\n",
       "'data':{\n",
       "},\n",
       "'position':\"identity\",\n",
       "'geom':\"line\"\n",
       "}]\n",
       "};\n",
       "           var plotContainer = document.getElementById(\"sN8SLh\");\n",
       "           window.letsPlotCall(function() {{\n",
       "               LetsPlot.buildPlotFromProcessedSpecs(plotSpec, -1, -1, plotContainer);\n",
       "           }});\n",
       "       })();    \n",
       "   </script>"
      ]
     },
     "execution_count": 57,
     "metadata": {},
     "output_type": "execute_result"
    }
   ],
   "source": [
    "val stepsCount = List<Int>(10) { (it + 5) * 10 }\n",
    "val nrmse = List<Double>(10) {i -> \n",
    "    val ww = naiveAnnealing(stepsCount[i], 10, 100000.0)\n",
    "    nrmse(objects, ww)\n",
    "}\n",
    "\n",
    "val plotDataWindowSize = mapOf(\n",
    "    \"stepsCount\" to stepsCount,\n",
    "    \"nrmse\" to nrmse\n",
    ")\n",
    "\n",
    "lets_plot(plotDataWindowSize) +\n",
    "    geom_line {\n",
    "        x = \"stepsCount\"\n",
    "        y = \"nrmse\"\n",
    "    }"
   ]
  },
  {
   "cell_type": "code",
   "execution_count": null,
   "metadata": {},
   "outputs": [],
   "source": []
  }
 ],
 "metadata": {
  "kernelspec": {
   "display_name": "Kotlin",
   "language": "kotlin",
   "name": "kotlin"
  },
  "language_info": {
   "codemirror_mode": "text/x-kotlin",
   "file_extension": ".kt",
   "mimetype": "text/x-kotlin",
   "name": "kotlin",
   "pygments_lexer": "kotlin",
   "version": "1.4.20-dev-2342"
  }
 },
 "nbformat": 4,
 "nbformat_minor": 4
}
