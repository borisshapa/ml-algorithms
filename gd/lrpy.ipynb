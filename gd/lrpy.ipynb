{
 "cells": [
  {
   "cell_type": "code",
   "execution_count": 1,
   "metadata": {},
   "outputs": [],
   "source": [
    "def normalize(x):\n",
    "    maxs = max([max(i[:-1]) for i in x])\n",
    "    mins = min([min(i[:-1]) for i in x])\n",
    "    x = list(map(lambda t: list(map(lambda r: (r - mins) / (maxs - mins), t)), x))\n",
    "    return x, mins, maxs\n",
    "\n",
    "def inverse_normalization(a, mins, maxs):\n",
    "    r = a.copy()\n",
    "    for i in range(len(r) - 1):\n",
    "        r[i] /= maxs - mins\n",
    "    r[-1] -= sum([mins * r[i] for i in range(len(r) - 1)])\n",
    "    return r\n",
    "\n",
    "def add_ones(x):\n",
    "    return list(map(lambda t: t + [1], x))"
   ]
  },
  {
   "cell_type": "markdown",
   "metadata": {},
   "source": [
    "### stochastic gradient descent with momentum"
   ]
  },
  {
   "cell_type": "code",
   "execution_count": 2,
   "metadata": {},
   "outputs": [],
   "source": [
    "from random import random\n",
    "\n",
    "def nrmse(x, y, w, diff):\n",
    "    diffs = [(sum([w[z] * x[i][z] for z in range(len(x[0]))]) - y[i]) ** 2 for i in range(len(x))]\n",
    "    return sum(diffs) ** 0.5 / diff\n",
    "\n",
    "# linear regression: stochastic gradient descent with momentum\n",
    "def sgdm(train, train_result, test, test_result, epochs=1000, lr=1e-2, gamma=0.9, step=10):\n",
    "    objects = len(train)\n",
    "    features = len(train[0]) + 1\n",
    "    \n",
    "    full = train + test\n",
    "    normal, mins, maxs = normalize(full)\n",
    "    train = add_ones(normal[:objects])\n",
    "    test = add_ones(normal[objects:])\n",
    "    \n",
    "    train_measures = []\n",
    "    test_measures = []\n",
    "    w = [0] * features\n",
    "    momentum = [0] * features\n",
    "\n",
    "    for epoch in range(epochs):\n",
    "        if (epoch % step == 0):\n",
    "            train_measures.append(nrmse(train, train_result, w, maxs - mins))\n",
    "            test_measures.append(nrmse(test, test_result, w, maxs - mins))\n",
    "        \n",
    "        i = int(random() * objects)\n",
    "        diff = sum([w[z] * train[i][z] for z in range(features)]) - train_result[i]\n",
    "        grad = [diff * train[i][j] for j in range(features)]\n",
    "\n",
    "        momentum = [momentum[j] * gamma + lr * grad[j] for j in range(features)]\n",
    "        w = [w[j] - momentum[j] for j in range(features)]\n",
    "\n",
    "    return (inverse_normalization(w, mins, maxs), train_measures, test_measures)"
   ]
  },
  {
   "cell_type": "markdown",
   "metadata": {},
   "source": [
    "### pseudo inverse matrix"
   ]
  },
  {
   "cell_type": "code",
   "execution_count": 3,
   "metadata": {},
   "outputs": [],
   "source": [
    "import numpy as np\n",
    "\n",
    "def pseudomatrix(x, y):\n",
    "    return np.matmul(np.linalg.pinv(x), y)"
   ]
  },
  {
   "cell_type": "markdown",
   "metadata": {},
   "source": [
    "### testing"
   ]
  },
  {
   "cell_type": "code",
   "execution_count": 6,
   "metadata": {},
   "outputs": [
    {
     "name": "stdout",
     "output_type": "stream",
     "text": [
      "4.369444357974233 0.00011193207826373174\n"
     ]
    },
    {
     "data": {
      "text/plain": [
       "<Figure size 432x288 with 0 Axes>"
      ]
     },
     "metadata": {},
     "output_type": "display_data"
    }
   ],
   "source": [
    "from os import listdir\n",
    "from os.path import join\n",
    "from time import time\n",
    "from math import ceil\n",
    "import matplotlib.pyplot as plt\n",
    "\n",
    "def read_objects(amount):\n",
    "    objects = []\n",
    "    results = []\n",
    "    \n",
    "    for i in range(amount):\n",
    "        line = list(map(int, file.readline().split()))\n",
    "        objects.append(line[:-1])\n",
    "        results.append(line[-1])\n",
    "        \n",
    "    return (objects, results)\n",
    "\n",
    "ep = 10000\n",
    "st = 10\n",
    "x = list(range(0, ep, st))\n",
    "ncols = 2\n",
    "plt.figure()\n",
    "stopwatch = time()\n",
    "\n",
    "with open('LR/2.txt') as file:\n",
    "    features = int(file.readline())\n",
    "    train_size = int(file.readline())\n",
    "    train, train_result = read_objects(train_size)\n",
    "\n",
    "    test_size = int(file.readline())\n",
    "    test, test_result = read_objects(test_size)\n",
    "\n",
    "grad_result, train_measures, test_measures = sgdm(train, train_result, test, test_result, \n",
    "                                                  epochs=ep, step = st)\n",
    "matrix_result = pseudomatrix(train, train_result)\n",
    "\n",
    "maxs = max([max(i) for i in train])\n",
    "mins = min([min(i) for i in train])\n",
    "\n",
    "grad_nrmse = nrmse(test, test_result, grad_result, maxs - mins)\n",
    "matrix_nrmse = nrmse(test, test_result, matrix_result, maxs - mins)\n",
    "\n",
    "print('{} {}'.format(grad_nrmse, matrix_nrmse))"
   ]
  },
  {
   "cell_type": "code",
   "execution_count": null,
   "metadata": {},
   "outputs": [],
   "source": []
  }
 ],
 "metadata": {
  "kernelspec": {
   "display_name": "Python 3",
   "language": "python",
   "name": "python3"
  },
  "language_info": {
   "codemirror_mode": {
    "name": "ipython",
    "version": 3
   },
   "file_extension": ".py",
   "mimetype": "text/x-python",
   "name": "python",
   "nbconvert_exporter": "python",
   "pygments_lexer": "ipython3",
   "version": "3.8.3"
  }
 },
 "nbformat": 4,
 "nbformat_minor": 2
}
